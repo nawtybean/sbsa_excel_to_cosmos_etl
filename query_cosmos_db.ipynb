{
 "cells": [
  {
   "cell_type": "code",
   "execution_count": 13,
   "metadata": {},
   "outputs": [],
   "source": [
    "import json\n",
    "import os\n",
    "from azure.cosmos import CosmosClient\n",
    "import azure.cosmos.exceptions as exceptions\n",
    "from azure.cosmos.partition_key import PartitionKey\n",
    "import uuid"
   ]
  },
  {
   "cell_type": "code",
   "execution_count": 14,
   "metadata": {},
   "outputs": [],
   "source": [
    "os.environ['COSMOS_URI'] = 'https://localhost:8081'\n",
    "os.environ['COSMOS_KEY'] = 'C2y6yDjf5/R+ob0N8A7Cgv30VRDJIWEHLM+4QDU5DE2nQ9nDuVTqobD4b8mGGyPMbIZnqyMsEcaGQy67XIw/Jw=='\n",
    "os.environ['DATABASE'] = 'AlertsDB'\n",
    "os.environ['CONTAINER'] = 'AlertsContainer'\n"
   ]
  },
  {
   "cell_type": "code",
   "execution_count": 15,
   "metadata": {},
   "outputs": [],
   "source": [
    "applicable = ['01_test', '011_test', '012_test', '015_test', '021_test', '023_test', '024_test', '026_test', '028_test', '029_test', '031_test', '032_test', '033_test', '036_test', '041_test', '043_test', '044_test', '045_test', '046_test', '047_test', '048_test', '049_test', '051_test', '052_test', '053_test', '054_test', '055_test', '056_test', '057_test', '058_test', '059_test', '060_test', '061_test', '062_test', '064_test', '065_test', '066_test', '068_test', '069_test', '070_test', '072_test', '073_test', '076_test']\n",
    "not_applicable = ['02_test', '03_test', '04_test', '05_test', '06_test', '07_test', '08_test', '09_test', '010_test', '013_test', '014_test', '016_test', '017_test', '018_test', '019_test', '020_test', '022_test', '025_test', '027_test', '030_test', '034_test', '035_test', '037_test', '038_test', '039_test', '040_test', '042_test', '050_test', '063_test', '067_test', '071_test', '074_test', '075_test', '077_test']"
   ]
  },
  {
   "cell_type": "code",
   "execution_count": 16,
   "metadata": {},
   "outputs": [
    {
     "name": "stderr",
     "output_type": "stream",
     "text": [
      "C:\\Users\\Shaun\\anaconda3\\lib\\site-packages\\urllib3\\connectionpool.py:981: InsecureRequestWarning: Unverified HTTPS request is being made to host 'localhost'. Adding certificate verification is strongly advised. See: https://urllib3.readthedocs.io/en/latest/advanced-usage.html#ssl-warnings\n",
      "  warnings.warn(\n"
     ]
    }
   ],
   "source": [
    "# instantiate the cosmos db client\n",
    "url = os.environ['COSMOS_URI']\n",
    "key = os.environ['COSMOS_KEY']\n",
    "db = os.environ['DATABASE']\n",
    "container = os.environ['CONTAINER']\n",
    "\n",
    "client = CosmosClient(url, credential=key)\n",
    "\n",
    "db = client.get_database_client(db)\n",
    "container = db.get_container_client(container)\n",
    "\n",
    "# for i in range(len(applicable)):\n",
    "#     query = \"SELECT * FROM c where c.id = \" + \"'\" + str(applicable[i]) + \"'\"\n",
    "#     for alert in container.query_items(query=query, enable_cross_partition_query=True):\n",
    "#             alert['Status'] = 12\n",
    "#             alert['Specialist'] = \"\"\n",
    "#             container.replace_item(item=alert, body=alert)\n",
    "\n",
    "# for i in range(len(not_applicable)):\n",
    "#     query = \"SELECT * FROM c where c.id = \" + \"'\" + str(not_applicable[i]) + \"'\"\n",
    "#     for alert in container.query_items(query=query , enable_cross_partition_query=True):\n",
    "#             alert['Status'] = 13\n",
    "#             alert['Specialist'] = \"\"\n",
    "#             container.replace_item(item=alert, body=alert)"
   ]
  },
  {
   "cell_type": "code",
   "execution_count": 17,
   "metadata": {},
   "outputs": [
    {
     "name": "stderr",
     "output_type": "stream",
     "text": [
      "C:\\Users\\Shaun\\anaconda3\\lib\\site-packages\\urllib3\\connectionpool.py:981: InsecureRequestWarning: Unverified HTTPS request is being made to host '127.0.0.1'. Adding certificate verification is strongly advised. See: https://urllib3.readthedocs.io/en/latest/advanced-usage.html#ssl-warnings\n",
      "  warnings.warn(\n",
      "C:\\Users\\Shaun\\anaconda3\\lib\\site-packages\\urllib3\\connectionpool.py:981: InsecureRequestWarning: Unverified HTTPS request is being made to host '127.0.0.1'. Adding certificate verification is strongly advised. See: https://urllib3.readthedocs.io/en/latest/advanced-usage.html#ssl-warnings\n",
      "  warnings.warn(\n",
      "C:\\Users\\Shaun\\anaconda3\\lib\\site-packages\\urllib3\\connectionpool.py:981: InsecureRequestWarning: Unverified HTTPS request is being made to host '127.0.0.1'. Adding certificate verification is strongly advised. See: https://urllib3.readthedocs.io/en/latest/advanced-usage.html#ssl-warnings\n",
      "  warnings.warn(\n",
      "C:\\Users\\Shaun\\anaconda3\\lib\\site-packages\\urllib3\\connectionpool.py:981: InsecureRequestWarning: Unverified HTTPS request is being made to host '127.0.0.1'. Adding certificate verification is strongly advised. See: https://urllib3.readthedocs.io/en/latest/advanced-usage.html#ssl-warnings\n",
      "  warnings.warn(\n",
      "C:\\Users\\Shaun\\anaconda3\\lib\\site-packages\\urllib3\\connectionpool.py:981: InsecureRequestWarning: Unverified HTTPS request is being made to host '127.0.0.1'. Adding certificate verification is strongly advised. See: https://urllib3.readthedocs.io/en/latest/advanced-usage.html#ssl-warnings\n",
      "  warnings.warn(\n",
      "C:\\Users\\Shaun\\anaconda3\\lib\\site-packages\\urllib3\\connectionpool.py:981: InsecureRequestWarning: Unverified HTTPS request is being made to host '127.0.0.1'. Adding certificate verification is strongly advised. See: https://urllib3.readthedocs.io/en/latest/advanced-usage.html#ssl-warnings\n",
      "  warnings.warn(\n",
      "C:\\Users\\Shaun\\anaconda3\\lib\\site-packages\\urllib3\\connectionpool.py:981: InsecureRequestWarning: Unverified HTTPS request is being made to host '127.0.0.1'. Adding certificate verification is strongly advised. See: https://urllib3.readthedocs.io/en/latest/advanced-usage.html#ssl-warnings\n",
      "  warnings.warn(\n",
      "C:\\Users\\Shaun\\anaconda3\\lib\\site-packages\\urllib3\\connectionpool.py:981: InsecureRequestWarning: Unverified HTTPS request is being made to host '127.0.0.1'. Adding certificate verification is strongly advised. See: https://urllib3.readthedocs.io/en/latest/advanced-usage.html#ssl-warnings\n",
      "  warnings.warn(\n",
      "C:\\Users\\Shaun\\anaconda3\\lib\\site-packages\\urllib3\\connectionpool.py:981: InsecureRequestWarning: Unverified HTTPS request is being made to host '127.0.0.1'. Adding certificate verification is strongly advised. See: https://urllib3.readthedocs.io/en/latest/advanced-usage.html#ssl-warnings\n",
      "  warnings.warn(\n",
      "C:\\Users\\Shaun\\anaconda3\\lib\\site-packages\\urllib3\\connectionpool.py:981: InsecureRequestWarning: Unverified HTTPS request is being made to host '127.0.0.1'. Adding certificate verification is strongly advised. See: https://urllib3.readthedocs.io/en/latest/advanced-usage.html#ssl-warnings\n",
      "  warnings.warn(\n",
      "C:\\Users\\Shaun\\anaconda3\\lib\\site-packages\\urllib3\\connectionpool.py:981: InsecureRequestWarning: Unverified HTTPS request is being made to host '127.0.0.1'. Adding certificate verification is strongly advised. See: https://urllib3.readthedocs.io/en/latest/advanced-usage.html#ssl-warnings\n",
      "  warnings.warn(\n",
      "C:\\Users\\Shaun\\anaconda3\\lib\\site-packages\\urllib3\\connectionpool.py:981: InsecureRequestWarning: Unverified HTTPS request is being made to host '127.0.0.1'. Adding certificate verification is strongly advised. See: https://urllib3.readthedocs.io/en/latest/advanced-usage.html#ssl-warnings\n",
      "  warnings.warn(\n",
      "C:\\Users\\Shaun\\anaconda3\\lib\\site-packages\\urllib3\\connectionpool.py:981: InsecureRequestWarning: Unverified HTTPS request is being made to host '127.0.0.1'. Adding certificate verification is strongly advised. See: https://urllib3.readthedocs.io/en/latest/advanced-usage.html#ssl-warnings\n",
      "  warnings.warn(\n",
      "C:\\Users\\Shaun\\anaconda3\\lib\\site-packages\\urllib3\\connectionpool.py:981: InsecureRequestWarning: Unverified HTTPS request is being made to host '127.0.0.1'. Adding certificate verification is strongly advised. See: https://urllib3.readthedocs.io/en/latest/advanced-usage.html#ssl-warnings\n",
      "  warnings.warn(\n",
      "C:\\Users\\Shaun\\anaconda3\\lib\\site-packages\\urllib3\\connectionpool.py:981: InsecureRequestWarning: Unverified HTTPS request is being made to host '127.0.0.1'. Adding certificate verification is strongly advised. See: https://urllib3.readthedocs.io/en/latest/advanced-usage.html#ssl-warnings\n",
      "  warnings.warn(\n",
      "C:\\Users\\Shaun\\anaconda3\\lib\\site-packages\\urllib3\\connectionpool.py:981: InsecureRequestWarning: Unverified HTTPS request is being made to host '127.0.0.1'. Adding certificate verification is strongly advised. See: https://urllib3.readthedocs.io/en/latest/advanced-usage.html#ssl-warnings\n",
      "  warnings.warn(\n",
      "C:\\Users\\Shaun\\anaconda3\\lib\\site-packages\\urllib3\\connectionpool.py:981: InsecureRequestWarning: Unverified HTTPS request is being made to host '127.0.0.1'. Adding certificate verification is strongly advised. See: https://urllib3.readthedocs.io/en/latest/advanced-usage.html#ssl-warnings\n",
      "  warnings.warn(\n",
      "C:\\Users\\Shaun\\anaconda3\\lib\\site-packages\\urllib3\\connectionpool.py:981: InsecureRequestWarning: Unverified HTTPS request is being made to host '127.0.0.1'. Adding certificate verification is strongly advised. See: https://urllib3.readthedocs.io/en/latest/advanced-usage.html#ssl-warnings\n",
      "  warnings.warn(\n",
      "C:\\Users\\Shaun\\anaconda3\\lib\\site-packages\\urllib3\\connectionpool.py:981: InsecureRequestWarning: Unverified HTTPS request is being made to host '127.0.0.1'. Adding certificate verification is strongly advised. See: https://urllib3.readthedocs.io/en/latest/advanced-usage.html#ssl-warnings\n",
      "  warnings.warn(\n",
      "C:\\Users\\Shaun\\anaconda3\\lib\\site-packages\\urllib3\\connectionpool.py:981: InsecureRequestWarning: Unverified HTTPS request is being made to host '127.0.0.1'. Adding certificate verification is strongly advised. See: https://urllib3.readthedocs.io/en/latest/advanced-usage.html#ssl-warnings\n",
      "  warnings.warn(\n",
      "C:\\Users\\Shaun\\anaconda3\\lib\\site-packages\\urllib3\\connectionpool.py:981: InsecureRequestWarning: Unverified HTTPS request is being made to host '127.0.0.1'. Adding certificate verification is strongly advised. See: https://urllib3.readthedocs.io/en/latest/advanced-usage.html#ssl-warnings\n",
      "  warnings.warn(\n",
      "C:\\Users\\Shaun\\anaconda3\\lib\\site-packages\\urllib3\\connectionpool.py:981: InsecureRequestWarning: Unverified HTTPS request is being made to host '127.0.0.1'. Adding certificate verification is strongly advised. See: https://urllib3.readthedocs.io/en/latest/advanced-usage.html#ssl-warnings\n",
      "  warnings.warn(\n"
     ]
    }
   ],
   "source": [
    "# for item_list in container.query_items(query='SELECT * FROM c where c.Description != null and c.Description <> \"\" and c.Description <> \"None\" and c.Status = 1', enable_cross_partition_query=True):\n",
    "#     print(item_list)\n",
    "# for alert in container.query_items(query='SELECT * FROM c where c.Status = 12', enable_cross_partition_query=True):\n",
    "#     alert['Status'] = 5\n",
    "#     alert['Specialist'] = \"None\"\n",
    "#     container.replace_item(item=alert, body=alert)\n",
    "\n",
    "# for alert in container.query_items(query='SELECT * FROM c where c.Status = 13', enable_cross_partition_query=True):\n",
    "#     alert['Status'] = 5\n",
    "#     alert['Specialist'] = \"None\"\n",
    "#     container.replace_item(item=alert, body=alert)\n",
    "\n",
    "# for alert in container.query_items(query='SELECT * FROM c where c.Status = 17', enable_cross_partition_query=True):\n",
    "#     alert['Status'] = 5\n",
    "#     alert['Specialist'] = \"None\"\n",
    "#     container.replace_item(item=alert, body=alert)\n",
    "\n",
    "\n",
    "for alert in container.query_items(query='SELECT * FROM c where c.Status = 5', enable_cross_partition_query=True):\n",
    "    alert['Status'] = 88\n",
    "    alert['Specialist'] = \"None\"\n",
    "    container.replace_item(item=alert, body=alert)\n"
   ]
  },
  {
   "cell_type": "code",
   "execution_count": 18,
   "metadata": {},
   "outputs": [],
   "source": [
    "for k in range(5):\n",
    "    exec(f'cat_{k} = k*2')"
   ]
  },
  {
   "cell_type": "code",
   "execution_count": 19,
   "metadata": {},
   "outputs": [],
   "source": [
    "def get_filters_data():\n",
    "    data = [\n",
    "        {\"id\": 1, \"filter\": \"Filter 1\", \"activity\": \"NNAAFilterNERActivity\",\n",
    "            \"table\": \"AA_Filter_NC_NER\", \"columns\": \"Noun_Entity_Ruler,Noun_Entity_Ruler_Label\"},\n",
    "\n",
    "        {\"id\": 2, \"filter\": \"Filter 2\", \"activity\": \"NNAAFilterNCActivity\",\n",
    "            \"table\": \"AA_Filter_NC\", \"columns\": \"Noun_Chunk\"},\n",
    "\n",
    "        {\"id\": 3, \"filter\": \"Filter 3\", \"activity\": \"NNAAFilterNERNCActivity\",\n",
    "            \"table\": \"AA_Filter_NER_NC\", \"columns\": \"Noun_Entity_Ruler,Noun_Entity_Ruler_Label,Noun_Chunk\"},\n",
    "\n",
    "        {\"id\": 4, \"filter\": \"Filter 4\", \"activity\": \"NNAAFilterNCNCActivity\",\n",
    "            \"table\": \"AA_Filter_NC_NC\", \"columns\": \"Noun_Chunk_1,Noun_Chunk_2\"},\n",
    "\n",
    "        {\"id\": 5, \"filter\": \"Filter 5\", \"activity\": \"NNAAFilterNEREntityRuleActivity\",\n",
    "            \"table\": \"AA_Filter_NER_EntityRule\", \"columns\": \"Noun_Entity_Ruler,Noun_Entity_Ruler_Label\"},\n",
    "\n",
    "        {\"id\": 6, \"filter\": \"Filter 6\", \"activity\": \"NNAAFilterPMActivity\",\n",
    "            \"table\": \"AA_Filter_PM\", \"columns\": \"Word\"},\n",
    "\n",
    "        {\"id\": 7, \"filter\": \"Filter 7\", \"activity\": \"NNAAFilterNERNCPMActivity\",\n",
    "            \"table\": \"AA_Filter_NER_NCPM\", \"columns\": \"Noun_Entity_Ruler,Noun_Entity_Ruler_Label,Noun_Chunk\"},\n",
    "\n",
    "        {\"id\": 8, \"filter\": \"Filter 8\", \"activity\": \"NNAAFilterNEREntityRuleNCPMActivity\", \"table\": \"AA_Filter_NER_EntityRule_NCPM\",\n",
    "            \"columns\": \"Noun_Entity_Ruler,Noun_Entity_Ruler_Label,Noun_Chunk_Phrase_Matcher\"},\n",
    "\n",
    "        {\"id\": 9, \"filter\": \"Filter 9\", \"activity\": \"NNAAFilterNCNCPMActivity\",\n",
    "            \"table\": \"AA_Filter_NC_NCPM\", \"columns\": \"Noun_Chunk,Noun_chunk_Phrase_Matcher\"},\n",
    "\n",
    "        {\"id\": 10, \"filter\": \"Filter 10\", \"activity\": \"NNAAFilterNCNCNCActivity\",\n",
    "            \"table\": \"AA_Filter_NC_NC_NC\", \"columns\": \"Noun_Chunk_1,Noun_Chunk_2,Noun_Chunk_3\"},\n",
    "\n",
    "        {\"id\": 11, \"filter\": \"Filter 11\", \"activity\": \"NNAAFilterNCNCNCNCActivity\",\n",
    "            \"table\": \"AA_Filter_NC_NC_NC_NC\", \"columns\": \"Noun_Chunk_1,Noun_Chunk_2,Noun_Chunk_3,Noun_Chunk_4\"},\n",
    "\n",
    "        {\"id\": 12, \"filter\": \"Filter 12\", \"activity\": \"NNAAFilterNERNCPMNCPMActivity\", \"table\": \"AA_Filter_NER_NCPM_NCPM\",\n",
    "            \"columns\": \"Noun_Entity_Ruler,Noun_Entity_Ruler_Label,Noun_Chunk_Phrase_Matcher_1,Noun_Chunk_Phrase_Matcher_2\"},\n",
    "            \n",
    "        {\"id\": 13, \"filter\": \"Filter 13\", \"activity\": \"NNAAFilterNERCaptalNCPMActivity\", \"table\": \"AA_Filter_NER_CaptalNCPM\",\n",
    "            \"columns\": \"Noun_Entity_Ruler,Noun_Entity_Ruler_Label,Noun_Chunk_Phrase_Matcher_1\"}\n",
    "    ]\n",
    "    return sorted(data, key=lambda x: x[\"id\"], reverse=False)"
   ]
  },
  {
   "cell_type": "code",
   "execution_count": 20,
   "metadata": {},
   "outputs": [],
   "source": [
    "filters_data = get_filters_data()"
   ]
  },
  {
   "cell_type": "code",
   "execution_count": 21,
   "metadata": {},
   "outputs": [
    {
     "name": "stdout",
     "output_type": "stream",
     "text": [
      "NNAAFilterNERActivity\n",
      "NNAAFilterNCActivity\n",
      "NNAAFilterNERNCActivity\n",
      "NNAAFilterNCNCActivity\n",
      "NNAAFilterNEREntityRuleActivity\n",
      "NNAAFilterPMActivity\n",
      "NNAAFilterNERNCPMActivity\n",
      "NNAAFilterNEREntityRuleNCPMActivity\n",
      "NNAAFilterNCNCPMActivity\n",
      "NNAAFilterNCNCNCActivity\n",
      "NNAAFilterNCNCNCNCActivity\n",
      "NNAAFilterNERNCPMNCPMActivity\n",
      "NNAAFilterNERCaptalNCPMActivity\n"
     ]
    }
   ],
   "source": [
    "var = []\n",
    "for filter_data in filters_data:\n",
    "    var.append(filter_data['activity'])\n",
    "\n",
    "for i in range(len(var)):\n",
    "    print(var[i])"
   ]
  },
  {
   "cell_type": "code",
   "execution_count": 22,
   "metadata": {},
   "outputs": [],
   "source": [
    "# for filter_data in filters_data:\n",
    "#     exec(f'result_{filter_data[\"activity\"]} = {[\"4\", \"5\"]}')\n",
    "\n",
    "# print(locals())   "
   ]
  },
  {
   "cell_type": "code",
   "execution_count": 23,
   "metadata": {},
   "outputs": [],
   "source": [
    "# globals()['result' + str(filter_data[\"activity\"])] = 4"
   ]
  },
  {
   "cell_type": "code",
   "execution_count": 24,
   "metadata": {},
   "outputs": [
    {
     "ename": "NameError",
     "evalue": "name 'NNAAFilterNERNCPMActivity' is not defined",
     "output_type": "error",
     "traceback": [
      "\u001b[1;31m---------------------------------------------------------------------------\u001b[0m",
      "\u001b[1;31mNameError\u001b[0m                                 Traceback (most recent call last)",
      "\u001b[1;32m<ipython-input-24-60eff3356148>\u001b[0m in \u001b[0;36m<module>\u001b[1;34m\u001b[0m\n\u001b[1;32m----> 1\u001b[1;33m \u001b[0mprint\u001b[0m\u001b[1;33m(\u001b[0m\u001b[0mNNAAFilterNERNCPMActivity\u001b[0m\u001b[1;33m)\u001b[0m\u001b[1;33m\u001b[0m\u001b[1;33m\u001b[0m\u001b[0m\n\u001b[0m",
      "\u001b[1;31mNameError\u001b[0m: name 'NNAAFilterNERNCPMActivity' is not defined"
     ]
    }
   ],
   "source": [
    "print(NNAAFilterNERNCPMActivity)"
   ]
  },
  {
   "cell_type": "code",
   "execution_count": null,
   "metadata": {},
   "outputs": [],
   "source": []
  }
 ],
 "metadata": {
  "interpreter": {
   "hash": "dbc623fb6c80bd56cc39a6139978bd7247b664da3b9da7d2082c5f53dcbd913f"
  },
  "kernelspec": {
   "display_name": "Python 3.8.8 64-bit (conda)",
   "language": "python",
   "name": "python3"
  },
  "language_info": {
   "codemirror_mode": {
    "name": "ipython",
    "version": 3
   },
   "file_extension": ".py",
   "mimetype": "text/x-python",
   "name": "python",
   "nbconvert_exporter": "python",
   "pygments_lexer": "ipython3",
   "version": "3.8.5"
  },
  "orig_nbformat": 4
 },
 "nbformat": 4,
 "nbformat_minor": 2
}
