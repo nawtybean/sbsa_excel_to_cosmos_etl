{
 "cells": [
  {
   "cell_type": "code",
   "execution_count": 11,
   "metadata": {},
   "outputs": [],
   "source": [
    "# import all the various libraries\n",
    "import pandas as pd\n",
    "import json\n",
    "from zipfile import ZipFile\n",
    "from bs4 import BeautifulSoup\n",
    "from azure.cosmos import CosmosClient\n",
    "import azure.cosmos.exceptions as exceptions\n",
    "from azure.cosmos.partition_key import PartitionKey\n",
    "import os"
   ]
  },
  {
   "cell_type": "code",
   "execution_count": 12,
   "metadata": {},
   "outputs": [],
   "source": [
    "# instantiate the cosmos db client\n",
    "url = os.environ['COSMOS_URI']\n",
    "key = os.environ['COSMOS_KEY']\n",
    "\n",
    "client = CosmosClient(url, credential=key)\n",
    "\n",
    "# name file variable\n",
    "file = 'ianna.xlsx'\n",
    "xls = pd.ExcelFile(file)\n",
    "\n",
    "# scrape the excel sheet for sheet names\n",
    "with ZipFile(file) as zipped_file:\n",
    "    summary = zipped_file.open(r'xl/workbook.xml').read()\n",
    "soup = BeautifulSoup(summary, \"xml\")\n",
    "# store the sheet names in a list\n",
    "sheets = [sheet.get(\"name\") for sheet in soup.find_all(\"sheet\")]\n",
    "\n",
    "# declare some variables\n",
    "data_map = []\n",
    "dict = {}\n",
    "inc = 0\n",
    "\n",
    "# create a data map that would be used elsewhere\n",
    "for i in range(len(sheets)):\n",
    "    inc += 1\n",
    "    dict['id'] = inc\n",
    "    dict['filter'] = sheets[i]\n",
    "    data_map.append(dict.copy())\n",
    "    \n",
    "# create a json reponse that would be used to store the data in cosmos\n",
    "data = {}\n",
    "for i in range(len(sheets)):\n",
    "    df = pd.read_excel(xls, sheets[i])\n",
    "    result = json.loads(json.dumps(list(df.T.to_dict().values())))\n",
    "    data[sheets[i]] = result\n",
    "    \n",
    "# create id's for all the objects\n",
    "final_data = {}\n",
    "for x in data:\n",
    "    for i in range(len(data_map)):\n",
    "        if data_map[i]['filter'] == x:\n",
    "            inc = 0\n",
    "            temp_lst = data[x]\n",
    "            for j in range(len(temp_lst)):\n",
    "                inc += 1\n",
    "                temp_lst[j]['id'] = inc\n",
    "            final_data[data_map[i]['filter']] = temp_lst"
   ]
  },
  {
   "cell_type": "code",
   "execution_count": 14,
   "metadata": {},
   "outputs": [
    {
     "data": {
      "text/plain": [
       "[{'Entity_Ruler': 'High Court',\n",
       "  'Label': 'ORG',\n",
       "  'NC': 'credit providers',\n",
       "  'Impacted_Area': 'PBB',\n",
       "  'id': 1}]"
      ]
     },
     "execution_count": 14,
     "metadata": {},
     "output_type": "execute_result"
    }
   ],
   "source": [
    "final_data['IA_Filter_ER_NC']"
   ]
  },
  {
   "cell_type": "code",
   "execution_count": null,
   "metadata": {},
   "outputs": [],
   "source": []
  }
 ],
 "metadata": {
  "interpreter": {
   "hash": "b3ba2566441a7c06988d0923437866b63cedc61552a5af99d1f4fb67d367b25f"
  },
  "kernelspec": {
   "display_name": "Python 3.8.8 64-bit ('base': conda)",
   "language": "python",
   "name": "python3"
  },
  "language_info": {
   "codemirror_mode": {
    "name": "ipython",
    "version": 3
   },
   "file_extension": ".py",
   "mimetype": "text/x-python",
   "name": "python",
   "nbconvert_exporter": "python",
   "pygments_lexer": "ipython3",
   "version": "3.8.8"
  },
  "orig_nbformat": 4
 },
 "nbformat": 4,
 "nbformat_minor": 2
}
