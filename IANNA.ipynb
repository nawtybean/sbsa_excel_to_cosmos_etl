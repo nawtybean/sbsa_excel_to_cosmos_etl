{
 "cells": [
  {
   "cell_type": "code",
   "execution_count": 31,
   "metadata": {},
   "outputs": [],
   "source": [
    "# import all the various libraries\n",
    "\n",
    "import json\n",
    "import os"
   ]
  },
  {
   "cell_type": "code",
   "execution_count": 32,
   "metadata": {},
   "outputs": [],
   "source": [
    "dataDict = {'alert': {'id': '068_test', 'Name': 'Guide on how to use the Promotion of Access to Information Act 2 of 2000', 'WebsiteName': 'https://www.lawexplorer.co.za/sentinel/content/landing/Landing.aspx', 'DateExtracted': '2021-11-05T12:30:58.1539478Z', 'Jurisdiction': 'South Africa', 'Regulator': 'Sentinel', 'PageName': 'Home Page', 'PublicationDate': 'November 4, 2021', 'Description': 'The Guide on how to use the Promotion of Access to Information Act 2 of 2000 (\"PAIA\") has been published by the Information Regulator (South Africa). The purpose of the Guide is to provide information that is needed by any person who wishes to exercise any right contemplated under PAIA and the Protection of Personal Information Act 4 of 2013. The Guide does not relieve a user from the responsibility to exercise their own skill and care in relation to the requirements or obligations imposed by any legislation.', 'DocumentURL': 'None', 'BlobStorageURL': 'None', 'Status': 12, 'FileHash': 'None', 'AlertSourceId': '2082a64b-4586-4d7d-9010-8904eeeeaecb', 'RTAReviewRequired': False, 'AlertFlagReason': 'None', 'OriginalText': 'None', 'CleanedText': 'None', 'TokenizedText': 'None', 'DocFilename': 'None', 'CosineSimilarityScore': 'None', 'SoftCosineSimilarityScore': 'None', 'CosineFilenameSimilarTo': 'None', 'SoftCosineFilenameSimilarTo': 'None', 'Materiality': False, 'Applicability': False, 'Specialist': 'None', 'AAProcessUsed': 'None', 'IAProcessUsed': 'None', 'Assignees': 'None', 'DuplicateAlert': '00000000-0000-0000-0000-000000000000', 'UserId': '00000000-0000-0000-0000-000000000000', 'AgeStatus': 0, 'LastUpdatedDate': '2021-12-01T14:24:49', 'LastUpdatedUserId': 'None', 'ApplicabilityChangeDate': 'None', 'ApplicabilityChangeJustification': 'None', 'MaterialityChangeJustification': 'None', 'MaterialityChangeDate': 'None', 'MaterialityCommentaryClosure': 0, 'MaterialityCommentaryClosureDate': 'None', 'MaterialityCommentClosure': 'nan', 'MaterialityCommentClosureDate': 'nan', '_rid': 'FJRLAJvRb6oQBQAAAAAAAA==', '_self': 'dbs/FJRLAA==/colls/FJRLAJvRb6o=/docs/FJRLAJvRb6oQBQAAAAAAAA==/', '_etag': '\"00000000-0000-0000-e6bb-e2f59c2501d7\"', '_attachments': 'attachments/', '_ts': 1638367267}, 'filter': [('Broad-Based Black Economic Empowerment', 'LAW', 'Governance'), ('Codes of Good Practice on Broad-based Black Economic Empowerment', 'LAW', 'Governance'), ('Copyright Act', 'LAW', 'Legal'), ('Copyright Bill', 'LAW', 'Legal'), ('Currency and Exchanges Manual', 'LAW', 'Exchange Control'), ('Employment Tax Incentive', 'LAW', 'Tax'), ('Financial Intelligence Centre', 'ORG', 'Money Laundering Surveillance'), ('Financial Markets Act', 'LAW', 'Securities and Market Abuse'), ('Medical Schemes Amendment', 'LAW', 'Human Capital'), ('Ombudsman for Short term Insurance', 'ORG', 'Insurance Distribution and Offshore Services'), ('Revenue Laws', 'LAW', 'Tax'), ('Sector Education and Training Authorities', 'ORG', 'Human Capital'), ('Small Claims Court', 'ORG', 'Informational'), ('South African Revenue Service', 'ORG', 'Tax'), ('Strate Directive', 'LAW', 'Securities and Market Abuse'), ('Taxation Laws Amendment', 'LAW', 'Tax'), ('The Intellectual Property Policy', 'LAW', 'Legal'), ('Water Amendment By-law', 'LAW', 'Informational'), ('Active Insolvency practitioners', 'PERSON', 'Collections'), ('Business Licencing', 'LAW', 'Governance'), ('Deeds Office', 'ORG', 'Lending'), ('Employment Equity Amendment', 'LAW', 'Human Capital'), ('Employment Equity Regulations', 'LAW', 'Human Capital'), ('Financial Intelligence Centre Act', 'LAW', 'Money Laundering Surveillance'), ('High Courts', 'ORG', 'Legal'), ('Long Term Insurance Act', 'LAW', 'Insurance Distribution and Offshore Services'), ('National Environment Management: Air Quality Act', 'LAW', 'Environmental Risk'), ('Promotion of Access to Information Act', 'LAW', 'Data Privacy'), ('retail distribution review', 'LAW', 'Insurance Distribution and Offshore Services'), ('Short Term Insurance Act', 'LAW', 'Insurance Distribution and Offshore Services'), ('Tax Administration', 'LAW', 'Tax'), ('Tax Administration Laws Amendment', 'LAW', 'Tax'), ('The Currency and Exchanges Manual for Authorised Dealers', 'LAW', 'Exchange Control'), ('The Financial Intelligence Centre Act', 'LAW', 'Money Laundering Surveillance'), ('the Long-Term Insurance Act', 'LAW', 'Insurance Distribution and Offshore Services'), ('Electronic Deeds Registration Systems', 'LAW', 'Lending'), ('Intellectual Property Policy', 'ORG', 'Legal'), ('Magistrates Courts', 'ORG', 'Legal'), ('National Credit Amendment', 'LAW', 'PBB'), ('Public Audit Amendment', 'LAW', 'Audit'), ('Regulations for Judicial Officers', 'LAW', 'Legal'), ('SARS', 'ORG', 'Tax'), ('The South African Reserve Bank Amendment Bill', 'LAW', 'Informational'), ('Waste Exclusion Regulations', 'LAW', 'Environmental Risk'), ('Accounting Standards Board', 'ORG', 'Finance'), ('Authorised Dealers', 'ORG', 'Exchange Control'), ('Competition Amendment', 'LAW', 'Banking Supervision'), ('Copyright Amendment Act', 'LAW', 'Legal'), ('Copyright Amendment Bill', 'LAW', 'Legal'), ('Employment Equity', 'LAW', 'Human Capital'), ('Financial Action Task Force', 'ORG', 'Money Laundering Surveillance'), ('National Waste Information Regulations', 'LAW', 'Environmental Risk'), ('the Occupational Health and Safety', 'LAW', 'Health and Safety')]}"
   ]
  },
  {
   "cell_type": "code",
   "execution_count": 33,
   "metadata": {},
   "outputs": [
    {
     "data": {
      "text/plain": [
       "('Yes', 'Data Privacy')"
      ]
     },
     "execution_count": 33,
     "metadata": {},
     "output_type": "execute_result"
    }
   ],
   "source": [
    "import logging\n",
    "from typing import Dict\n",
    "from spacy.matcher import PhraseMatcher\n",
    "from spacy.pipeline import EntityRuler\n",
    "import spacy\n",
    "import en_core_web_sm\n",
    "\n",
    "filter_data = {\n",
    "    \"id\": \"15\",\n",
    "    \"filter\": \"Filter 15\",\n",
    "    \"table\": \"IA_Filter_ER\",\n",
    "    \"columns\": [\"NER\", \"Label\", \"Impacted_Area\"]\n",
    "}\n",
    "\n",
    "def alert(dataDict):\n",
    "    alert = dataDict[\"alert\"]\n",
    "    filter_values = dataDict[\"filter\"]\n",
    "    logging.info(f'Performing {filter_data[\"filter\"]} on {alert[\"id\"]}')\n",
    "    description = alert[\"Description\"]\n",
    "\n",
    "    nlp = spacy.blank('en')\n",
    "    ruler = nlp.add_pipe(\"entity_ruler\")\n",
    "\n",
    "    for rules, label, impacted_area in filter_values:\n",
    "        rule = [{\"lower\": value} for value in rules.lower().split()]\n",
    "        pattern = [{\"label\": label, \"pattern\": rule}]\n",
    "        ruler.add_patterns(pattern)\n",
    "\n",
    "    doc = nlp(description) \n",
    "    for entC,entCL,impacted_area in filter_values:\n",
    "        for ent in doc.ents:\n",
    "            if entC.lower() == ent.text.lower() and entCL.lower() == ent.label_.lower():\n",
    "                return \"Yes\", impacted_area\n",
    "                        \n",
    "    return \"No\"\n",
    "\n",
    "result = alert(dataDict)\n",
    "result"
   ]
  },
  {
   "cell_type": "code",
   "execution_count": null,
   "metadata": {},
   "outputs": [],
   "source": []
  },
  {
   "cell_type": "code",
   "execution_count": 34,
   "metadata": {},
   "outputs": [
    {
     "data": {
      "text/plain": [
       "UUID('db2db773-f8e1-4597-8d6d-8407d3cd5390')"
      ]
     },
     "execution_count": 34,
     "metadata": {},
     "output_type": "execute_result"
    }
   ],
   "source": [
    "import uuid\n",
    "IANNAKeyID = uuid.uuid4()\n",
    "IANNAKeyID"
   ]
  },
  {
   "cell_type": "code",
   "execution_count": 35,
   "metadata": {},
   "outputs": [],
   "source": [
    "import pandas as pd\n",
    "import json\n",
    "\n",
    "path = \"D:\\\\GitHub\\\\sbsa_excel_to_cosmos_etl\\\\nnaa_results2.json\"\n",
    "json_url = open(path, encoding='utf-8')\n",
    "json_data = json.load(json_url)\n",
    "\n",
    "df = pd.DataFrame(json_data)\n",
    "df.drop_duplicates(inplace=True)\n",
    "df.to_excel('nnaa_results.xlsx')"
   ]
  },
  {
   "cell_type": "code",
   "execution_count": null,
   "metadata": {},
   "outputs": [],
   "source": []
  }
 ],
 "metadata": {
  "interpreter": {
   "hash": "dbc623fb6c80bd56cc39a6139978bd7247b664da3b9da7d2082c5f53dcbd913f"
  },
  "kernelspec": {
   "display_name": "Python 3.8.8 64-bit (conda)",
   "language": "python",
   "name": "python3"
  },
  "language_info": {
   "codemirror_mode": {
    "name": "ipython",
    "version": 3
   },
   "file_extension": ".py",
   "mimetype": "text/x-python",
   "name": "python",
   "nbconvert_exporter": "python",
   "pygments_lexer": "ipython3",
   "version": "3.9.6"
  },
  "orig_nbformat": 4
 },
 "nbformat": 4,
 "nbformat_minor": 2
}
