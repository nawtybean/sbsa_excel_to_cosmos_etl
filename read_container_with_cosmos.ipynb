{
 "cells": [
  {
   "cell_type": "code",
   "execution_count": null,
   "metadata": {},
   "outputs": [],
   "source": [
    "os.environ['SBSA_URI'] = 'https://cdb-san-complianceregtech.documents.azure.com:443/'\n",
    "os.environ['SBSA_KEY'] = '5ZMI4sYTObLLRTEEshJ6sItmUXR0EcKjwqtnXlValOzeVrjBRP8Pn4UrRLZMHWbM8GcgEuB18O5h0mgcGuiG6Q=='"
   ]
  },
  {
   "cell_type": "code",
   "execution_count": null,
   "metadata": {},
   "outputs": [],
   "source": [
    "# instantiate the cosmos db client\n",
    "url = os.environ['SBSA_URI']\n",
    "key = os.environ['SBSA_KEY']\n",
    "\n",
    "client = CosmosClient(url, credential=key)\n",
    "\n",
    "db = client.get_database_client('AlertsDB')\n",
    "\n",
    "container = db.get_container_client('AlertsContainer')\n",
    "\n",
    "item_list = list(container.read_all_items(max_item_count=10))\n",
    "item_list\n",
    "\n",
    "# item_list = list(container.read_all_items(max_item_count=10))\n",
    "\n",
    "#     print('Found {0} items'.format(item_list.__len__()))\n",
    "\n",
    "#     for doc in item_list:\n",
    "#         print('Item Id: {0}'.format(doc.get('id')))"
   ]
  },
  {
   "cell_type": "code",
   "execution_count": null,
   "metadata": {},
   "outputs": [],
   "source": []
  }
 ],
 "metadata": {
  "interpreter": {
   "hash": "dbc623fb6c80bd56cc39a6139978bd7247b664da3b9da7d2082c5f53dcbd913f"
  },
  "kernelspec": {
   "display_name": "Python 3.8.8 64-bit (conda)",
   "language": "python",
   "name": "python3"
  },
  "language_info": {
   "name": "python",
   "version": "3.8.8"
  },
  "orig_nbformat": 4
 },
 "nbformat": 4,
 "nbformat_minor": 2
}
